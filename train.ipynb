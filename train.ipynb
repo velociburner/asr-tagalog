{
  "nbformat": 4,
  "nbformat_minor": 0,
  "metadata": {
    "colab": {
      "provenance": [],
      "gpuType": "T4"
    },
    "kernelspec": {
      "name": "python3",
      "display_name": "Python 3"
    },
    "language_info": {
      "name": "python"
    },
    "accelerator": "GPU"
  },
  "cells": [
    {
      "cell_type": "markdown",
      "source": [
        "# Training a Whisper model for doing ASR on Tagalog Bible data\n",
        "Some of this code for preparing the data and models was taken or adapted from https://huggingface.co/blog/fine-tune-whisper. All experiments were run on Google Colab, so it hasn't been tested on a local machine with a fresh Python environment."
      ],
      "metadata": {
        "id": "Kf-M_HmB1EO2"
      }
    },
    {
      "cell_type": "markdown",
      "source": [
        "# Install requirements"
      ],
      "metadata": {
        "id": "Xdvdz3Rn9ZWk"
      }
    },
    {
      "cell_type": "code",
      "execution_count": null,
      "metadata": {
        "id": "OyMjTTCD8Gz_"
      },
      "outputs": [],
      "source": [
        "!pip install transformers datasets evaluate jiwer\n",
        "!pip install -U accelerate"
      ]
    },
    {
      "cell_type": "markdown",
      "source": [
        "# Imports"
      ],
      "metadata": {
        "id": "KAgdZPKG9fAU"
      }
    },
    {
      "cell_type": "code",
      "source": [
        "import csv\n",
        "from pathlib import Path\n",
        "\n",
        "from dataclasses import dataclass\n",
        "from typing import Any, Dict, List, Union\n",
        "\n",
        "import evaluate\n",
        "import torch\n",
        "\n",
        "from transformers import (\n",
        "    WhisperProcessor,\n",
        "    WhisperTokenizer,\n",
        "    WhisperForConditionalGeneration,\n",
        "    WhisperFeatureExtractor,\n",
        "    Seq2SeqTrainingArguments,\n",
        "    Seq2SeqTrainer\n",
        ")\n",
        "from datasets import load_dataset, concatenate_datasets"
      ],
      "metadata": {
        "id": "7gvze2KH891J"
      },
      "execution_count": null,
      "outputs": []
    },
    {
      "cell_type": "markdown",
      "source": [
        "# Load data"
      ],
      "metadata": {
        "id": "7bFkbXOUjzru"
      }
    },
    {
      "cell_type": "code",
      "source": [
        "!mkdir train dev test"
      ],
      "metadata": {
        "id": "iKt6tqcBkPAw"
      },
      "execution_count": null,
      "outputs": []
    },
    {
      "cell_type": "markdown",
      "source": [
        "**Make sure to upload data to `train/` `dev/`, and `test/` splits before moving forward.**"
      ],
      "metadata": {
        "id": "5Mhy2HseoZYa"
      }
    },
    {
      "cell_type": "markdown",
      "source": [
        "## Generate metadata\n",
        "Create a `metadata.csv` file in each data directory used to load the audio and text data. This contains the name of each `.wav` file and the content of the corresponding `.txt` file."
      ],
      "metadata": {
        "id": "Eigx19W5okjr"
      }
    },
    {
      "cell_type": "code",
      "source": [
        "def generate_metadata(data_dir: Path):\n",
        "    audio_files = data_dir.glob(\"*.wav\")\n",
        "\n",
        "    with open(data_dir / 'metadata.csv', 'w', newline='') as f:\n",
        "        writer = csv.writer(f)\n",
        "        writer.writerow([\"file_name\", \"transcription\"])\n",
        "\n",
        "        for audio_file in audio_files:\n",
        "            txt_file = audio_file.with_suffix(\".txt\")\n",
        "            if txt_file.is_file():\n",
        "                with txt_file.open('r', encoding='utf8') as txt:\n",
        "                    transcription = txt.read()\n",
        "                writer.writerow([audio_file.name, transcription])"
      ],
      "metadata": {
        "id": "BznjyjHLk6SZ"
      },
      "execution_count": null,
      "outputs": []
    },
    {
      "cell_type": "code",
      "source": [
        "generate_metadata(Path(\"./train\"))\n",
        "generate_metadata(Path(\"./dev\"))\n",
        "generate_metadata(Path(\"./test\"))"
      ],
      "metadata": {
        "id": "aBPIlyFCmPC2"
      },
      "execution_count": null,
      "outputs": []
    },
    {
      "cell_type": "markdown",
      "source": [
        "## Load dataset from splits"
      ],
      "metadata": {
        "id": "DiR-I82hosGp"
      }
    },
    {
      "cell_type": "code",
      "source": [
        "ds = load_dataset(\"audiofolder\", data_dir=\"./\")\n",
        "ds"
      ],
      "metadata": {
        "id": "tMnXb9_tVYNP"
      },
      "execution_count": null,
      "outputs": []
    },
    {
      "cell_type": "markdown",
      "source": [
        "# Load pretrained models"
      ],
      "metadata": {
        "id": "OtFMC5eLkJ5Z"
      }
    },
    {
      "cell_type": "code",
      "source": [
        "# select which model and language you want to use\n",
        "# tiny, base,\tsmall, medium, large, large-v2\n",
        "whisper_model = \"openai/whisper-base\"\n",
        "language = \"tagalog\""
      ],
      "metadata": {
        "id": "wghmT4C5y7wU"
      },
      "execution_count": null,
      "outputs": []
    },
    {
      "cell_type": "code",
      "source": [
        "feature_extractor = WhisperFeatureExtractor.from_pretrained(whisper_model, task=\"transcribe\", language=language)\n",
        "tokenizer = WhisperTokenizer.from_pretrained(whisper_model, task=\"transcribe\", language=language)\n",
        "processor = WhisperProcessor.from_pretrained(whisper_model, task=\"transcribe\", language=language)\n",
        "model = WhisperForConditionalGeneration.from_pretrained(whisper_model)\n",
        "\n",
        "model.config.forced_decoder_ids = None\n",
        "model.config.suppress_tokens = []"
      ],
      "metadata": {
        "id": "t0Evwxzt9Ev2"
      },
      "execution_count": null,
      "outputs": []
    },
    {
      "cell_type": "markdown",
      "source": [
        "# Prepare data"
      ],
      "metadata": {
        "id": "tgnN0LB-zTur"
      }
    },
    {
      "cell_type": "code",
      "source": [
        "def prepare_dataset(batch):\n",
        "    audio = batch[\"audio\"]\n",
        "    batch[\"input_features\"] = feature_extractor(audio[\"array\"], sampling_rate=audio[\"sampling_rate\"]).input_features[0]\n",
        "    batch[\"input_length\"] = len(audio[\"array\"]) / audio[\"sampling_rate\"]\n",
        "    batch[\"labels\"] = tokenizer(batch[\"transcription\"]).input_ids\n",
        "    return batch"
      ],
      "metadata": {
        "id": "FnkcvnkgyOPV"
      },
      "execution_count": null,
      "outputs": []
    },
    {
      "cell_type": "code",
      "source": [
        "ds = ds.map(prepare_dataset, remove_columns=ds.column_names[\"train\"])"
      ],
      "metadata": {
        "id": "Ucqa48zPzb81"
      },
      "execution_count": null,
      "outputs": []
    },
    {
      "cell_type": "code",
      "source": [
        "@dataclass\n",
        "class DataCollatorSpeechSeq2SeqWithPadding:\n",
        "    processor: Any\n",
        "\n",
        "    def __call__(self, features: List[Dict[str, Union[List[int], torch.Tensor]]]) -> Dict[str, torch.Tensor]:\n",
        "        input_features = [{\"input_features\": feature[\"input_features\"]} for feature in features]\n",
        "        batch = self.processor.feature_extractor.pad(input_features, return_tensors=\"pt\")\n",
        "\n",
        "        label_features = [{\"input_ids\": feature[\"labels\"]} for feature in features]\n",
        "        labels_batch = self.processor.tokenizer.pad(label_features, return_tensors=\"pt\")\n",
        "        labels = labels_batch[\"input_ids\"].masked_fill(labels_batch.attention_mask.ne(1), -100)\n",
        "\n",
        "        if (labels[:, 0] == self.processor.tokenizer.bos_token_id).all().cpu().item():\n",
        "            labels = labels[:, 1:]\n",
        "\n",
        "        batch[\"labels\"] = labels\n",
        "        return batch"
      ],
      "metadata": {
        "id": "dr1bI6Wb0SWM"
      },
      "execution_count": null,
      "outputs": []
    },
    {
      "cell_type": "code",
      "source": [
        "data_collator = DataCollatorSpeechSeq2SeqWithPadding(processor=processor)"
      ],
      "metadata": {
        "id": "FzhexzlGkwOs"
      },
      "execution_count": null,
      "outputs": []
    },
    {
      "cell_type": "markdown",
      "source": [
        "# Prepare evaluation metrics\n",
        "We will use Word Error Rate (WER) and Character Error Rate (CER) to evaluate the model."
      ],
      "metadata": {
        "id": "rD-CTtHd3kUC"
      }
    },
    {
      "cell_type": "code",
      "source": [
        "metric_wer = evaluate.load(\"wer\")\n",
        "metric_cer = evaluate.load(\"cer\")"
      ],
      "metadata": {
        "id": "kC4YZmJ5lASs"
      },
      "execution_count": null,
      "outputs": []
    },
    {
      "cell_type": "code",
      "source": [
        "def compute_metrics(pred):\n",
        "    pred_ids = pred.predictions\n",
        "    label_ids = pred.label_ids\n",
        "    label_ids[label_ids == -100] = tokenizer.pad_token_id\n",
        "\n",
        "    pred_str = tokenizer.batch_decode(pred_ids, skip_special_tokens=True)\n",
        "    label_str = tokenizer.batch_decode(label_ids, skip_special_tokens=True)\n",
        "\n",
        "    wer = 100 * metric_wer.compute(predictions=pred_str, references=label_str)\n",
        "    cer = 100 * metric_cer.compute(predictions=pred_str, references=label_str)\n",
        "\n",
        "    return {\"wer\": wer, \"cer\": cer}"
      ],
      "metadata": {
        "id": "DuGdlS7AmA6F"
      },
      "execution_count": 1,
      "outputs": []
    },
    {
      "cell_type": "markdown",
      "source": [
        "# Create model for training\n",
        "Generate a `Trainer` object using the Whisper models and evaluation metrics defined above."
      ],
      "metadata": {
        "id": "QllKQxLB_Qbc"
      }
    },
    {
      "cell_type": "code",
      "source": [
        "training_args = Seq2SeqTrainingArguments(\n",
        "    output_dir=\"./result\",\n",
        "    per_device_train_batch_size=16,\n",
        "    gradient_accumulation_steps=1, # increase by 2x for every 2x decrease in batch size\n",
        "    learning_rate=1e-5,\n",
        "    warmup_steps=10,\n",
        "    num_train_epochs=30,  # delete if steps is chosen\n",
        "    gradient_checkpointing=True,\n",
        "    fp16=True,  # True only if training on GPU, it won't work on CPU\n",
        "    evaluation_strategy=\"epoch\",  # steps, epoch, no - must match `save_strategy`\n",
        "    save_strategy=\"epoch\",  # steps, epoch, no - must match `evaluation_strategy`\n",
        "    per_device_eval_batch_size=8,\n",
        "    predict_with_generate=True,\n",
        "    generation_max_length=225,\n",
        "    logging_steps=1,\n",
        "    report_to=[\"tensorboard\"],\n",
        "    load_best_model_at_end=True,\n",
        "    metric_for_best_model=\"wer\",\n",
        "    greater_is_better=False,\n",
        "    push_to_hub=False\n",
        ")"
      ],
      "metadata": {
        "id": "UftzVeuE93uJ"
      },
      "execution_count": 34,
      "outputs": []
    },
    {
      "cell_type": "code",
      "source": [
        "trainer = Seq2SeqTrainer(\n",
        "    args=training_args,\n",
        "    model=model,\n",
        "    train_dataset=ds[\"train\"],\n",
        "    eval_dataset=ds[\"validation\"],\n",
        "    data_collator=data_collator,\n",
        "    compute_metrics=compute_metrics,\n",
        "    tokenizer=processor.feature_extractor\n",
        ")"
      ],
      "metadata": {
        "id": "VC0DhRwum9dc"
      },
      "execution_count": 35,
      "outputs": []
    },
    {
      "cell_type": "markdown",
      "source": [
        "## Zero-shot learning\n",
        "First, evaluate the model on the dev and test sets to get a baseline for the pretrained Whisper model."
      ],
      "metadata": {
        "id": "4FO2TdKG1pIR"
      }
    },
    {
      "cell_type": "code",
      "source": [
        "trainer.evaluate(eval_dataset=ds[\"validation\"])"
      ],
      "metadata": {
        "id": "knjsojyL1m8S"
      },
      "execution_count": null,
      "outputs": []
    },
    {
      "cell_type": "code",
      "source": [
        "trainer.evaluate(eval_dataset=ds[\"test\"])"
      ],
      "metadata": {
        "id": "j9oeam-k1x-E"
      },
      "execution_count": null,
      "outputs": []
    },
    {
      "cell_type": "markdown",
      "source": [
        "## Fine-tuning\n",
        "Use the trainer from above to fine-tune the Whisper model to this specific data"
      ],
      "metadata": {
        "id": "3fsWbcpz_VFm"
      }
    },
    {
      "cell_type": "code",
      "source": [
        "trainer.train()"
      ],
      "metadata": {
        "id": "gAsEU46obRIz"
      },
      "execution_count": null,
      "outputs": []
    },
    {
      "cell_type": "markdown",
      "source": [
        "## Evaluation\n",
        "Evaluate performance of the best model from fine-tuning on the dev and test sets (best dev will be the same as the best epoch from fine-tuning, as that is the model that is saved)."
      ],
      "metadata": {
        "id": "tUV4nvAr14cX"
      }
    },
    {
      "cell_type": "code",
      "source": [
        "trainer.evaluate(eval_dataset=ds[\"validation\"])"
      ],
      "metadata": {
        "id": "Cew2ZWiyUlP2"
      },
      "execution_count": null,
      "outputs": []
    },
    {
      "cell_type": "code",
      "source": [
        "trainer.evaluate(eval_dataset=ds[\"test\"])"
      ],
      "metadata": {
        "id": "kYTVxdXKyrEt"
      },
      "execution_count": null,
      "outputs": []
    }
  ]
}